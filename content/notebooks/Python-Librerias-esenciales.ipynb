{
 "cells": [
  {
   "cell_type": "markdown",
   "metadata": {},
   "source": [
    "#Python - Librerías esenciales para el analisis de datos"
   ]
  },
  {
   "cell_type": "markdown",
   "metadata": {},
   "source": [
    "*Esta notebook fue creada originalmente como un blog post por [Raúl E. López Briega](http://relopezbriega.com.ar/) en [Mi blog sobre Python](http://relopezbriega.github.io). El contenido esta bajo la licencia BSD.*"
   ]
  },
  {
   "cell_type": "markdown",
   "metadata": {},
   "source": [
    "En mi [artículo anterior](http://relopezbriega.github.io/blog/2014/05/25/mi-python-blog-introduccion-a-python/) hice una breve introducción al mundo de [Python](http://python.org/), hoy voy a detallar algunas de las librerías que son esenciales para trabajar con [Python](http://python.org/) en la comunidad científica o en el análisis de datos. \n",
    "\n",
    "Una de las grandes ventajas que ofrece [Python](http://python.org/) sobre otros lenguajes de programación, además de que es que es mucho más fácil de aprender; es lo grande y prolífera que es la comunidad de desarrolladores que lo rodean; comunidad que ha contribuído con una gran variedad de librerías de primer nivel que extienden la funcionalidades del lenguaje. Vamos a poder encontrar una librería en [Python](http://python.org/) para practicamente cualquier cosa que se nos ocurra.\n",
    "\n",
    "Algunas de las librerías que se han vuelto esenciales y ya forman casi parte del lenguaje en sí mismo son las siguientes:"
   ]
  },
  {
   "cell_type": "markdown",
   "metadata": {},
   "source": [
    "##Numpy##"
   ]
  },
  {
   "cell_type": "markdown",
   "metadata": {},
   "source": [
    "[Numpy](http://www.numpy.org/), abreviatura de Numerical [Python](http://python.org/) , es el paquete fundamental para la computación científica en [Python](http://python.org/). Dispone, entre otras cosas de:\n",
    "\n",
    "* Un objeto <a href='http://es.wikipedia.org/wiki/Matriz_(matem%C3%A1ticas)' target='_blank'>matriz</a> multidimensional *ndarray*,rápido y eficiente.\n",
    "* Funciones para realizar cálculos elemento a elemento u otras operaciones matemáticas con <a href='http://es.wikipedia.org/wiki/Matriz_(matem%C3%A1ticas)' target='_blank'>matrices</a>. \n",
    "* Herramientas para la lectura y escritura de los conjuntos de datos basados <a href='http://es.wikipedia.org/wiki/Matriz_(matem%C3%A1ticas)' target='_blank'>matrices</a>.\n",
    "* Operaciones de [álgebra lineal](http://es.wikipedia.org/wiki/%C3%81lgebra_lineal), [transformaciones de Fourier](http://es.wikipedia.org/wiki/Transformada_de_Fourier), y generación de números aleatorios.\n",
    "* Herramientas de integración para conectar [C](http://es.wikipedia.org/wiki/C_(lenguaje_de_programaci%C3%B3n), [C++](http://es.wikipedia.org/wiki/C%2B%2B) y [Fortran](http://es.wikipedia.org/wiki/Fortran) con [Python](http://python.org/)\n",
    "\n",
    "Más allá de las capacidades de procesamiento rápido de <a href='http://es.wikipedia.org/wiki/Matriz_(matem%C3%A1ticas)' target='_blank'>matrices</a> que [Numpy](http://www.numpy.org/) añade a [Python](http://python.org/), uno de sus\n",
    "propósitos principales con respecto al análisis de datos es la utilizacion de sus [estructuras de datos](http://es.wikipedia.org/wiki/Estructura_de_datos) como contenedores para transmitir los datos entre diferenctes algoritmos. Para datos numéricos , las <a href='http://es.wikipedia.org/wiki/Matriz_(matem%C3%A1ticas)' target='_blank'>matrices</a> de [Numpy](http://www.numpy.org/) son una forma mucho más eficiente de almacenar y manipular datos que cualquier otra de las [estructuras de datos](http://es.wikipedia.org/wiki/Estructura_de_datos) estandar incorporadas en [Python](http://python.org/). Asimismo, librerías escritas en un lenguaje de bajo nivel, como [C](http://es.wikipedia.org/wiki/C_(lenguaje_de_programaci%C3%B3n) o [Fortran](http://es.wikipedia.org/wiki/Fortran), pueden operar en los datos almacenados en <a href='http://es.wikipedia.org/wiki/Matriz_(matem%C3%A1ticas)' target='_blank'>matrices</a> de [Numpy](http://www.numpy.org/) sin necesidad de copiar o modificar ningun dato.\n",
    "\n",
    "Como nomencaltura genaral, cuando importamos la librería [Numpy](http://www.numpy.org/) en nuestro programa [Python](http://python.org/) se suele utilizar la siguiente:"
   ]
  },
  {
   "cell_type": "code",
   "execution_count": 4,
   "metadata": {
    "collapsed": false
   },
   "outputs": [],
   "source": [
    "import numpy as np"
   ]
  },
  {
   "cell_type": "markdown",
   "metadata": {},
   "source": [
    "###Creando matrices en Numpy"
   ]
  },
  {
   "cell_type": "markdown",
   "metadata": {},
   "source": [
    "Existen varias maneras de crear matrices en Numpy, por ejemplo desde:\n",
    "\n",
    "* Una *lista* o *tuple* de [Python](http://python.org/)\n",
    "* Funciones específicas para crear matrices como `arange`, `linspace`, etc.\n",
    "* Archivos planos con datos, como por ejemplo archivos .csv\n",
    "\n",
    "En [Numpy](http://www.numpy.org/) tanto los vectores como las matrices se crean utilizando el objeto `ndarray`"
   ]
  },
  {
   "cell_type": "code",
   "execution_count": 2,
   "metadata": {
    "collapsed": false
   },
   "outputs": [
    {
     "data": {
      "text/plain": [
       "array([1, 2, 3, 4])"
      ]
     },
     "execution_count": 2,
     "metadata": {},
     "output_type": "execute_result"
    }
   ],
   "source": [
    "#Creando un vector desde una lista de Python\n",
    "vector = np.array([1, 2, 3, 4])\n",
    "\n",
    "vector"
   ]
  },
  {
   "cell_type": "code",
   "execution_count": 3,
   "metadata": {
    "collapsed": false
   },
   "outputs": [
    {
     "data": {
      "text/plain": [
       "array([[1, 2],\n",
       "       [3, 4]])"
      ]
     },
     "execution_count": 3,
     "metadata": {},
     "output_type": "execute_result"
    }
   ],
   "source": [
    "#Para crear una matriz, simplemente le pasamos una lista anidada al objeto array de Numpy\n",
    "matriz = np.array([[1, 2],\n",
    "                   [3, 4]])\n",
    "\n",
    "matriz"
   ]
  },
  {
   "cell_type": "code",
   "execution_count": 4,
   "metadata": {
    "collapsed": false
   },
   "outputs": [
    {
     "data": {
      "text/plain": [
       "(numpy.ndarray, numpy.ndarray)"
      ]
     },
     "execution_count": 4,
     "metadata": {},
     "output_type": "execute_result"
    }
   ],
   "source": [
    "#El tipo de objeto de tanto de los vectores como de las matrices es ndarray\n",
    "type(vector), type(matriz)"
   ]
  },
  {
   "cell_type": "code",
   "execution_count": 5,
   "metadata": {
    "collapsed": false
   },
   "outputs": [
    {
     "name": "stdout",
     "output_type": "stream",
     "text": [
      "(4,) 4\n",
      "(2, 2) 4\n"
     ]
    }
   ],
   "source": [
    "#Los objetos ndarray de Numpy cuentan con las propiedades shape y size que nos muestran sus dimensiones.\n",
    "print vector.shape, vector.size\n",
    "\n",
    "print matriz.shape, matriz.size"
   ]
  },
  {
   "cell_type": "markdown",
   "metadata": {},
   "source": [
    "####Utilizando funciones para crear matrices"
   ]
  },
  {
   "cell_type": "code",
   "execution_count": 6,
   "metadata": {
    "collapsed": false
   },
   "outputs": [
    {
     "data": {
      "text/plain": [
       "array([ 1,  2,  3,  4,  5,  6,  7,  8,  9, 10])"
      ]
     },
     "execution_count": 6,
     "metadata": {},
     "output_type": "execute_result"
    }
   ],
   "source": [
    "#arange\n",
    "#La funcion arange nos facilita la creación de matrices\n",
    "x = np.arange(1, 11, 1) # argumentos: start, stop, step\n",
    "\n",
    "x"
   ]
  },
  {
   "cell_type": "code",
   "execution_count": 7,
   "metadata": {
    "collapsed": false
   },
   "outputs": [
    {
     "data": {
      "text/plain": [
       "array([  1.,   2.,   3.,   4.,   5.,   6.,   7.,   8.,   9.,  10.,  11.,\n",
       "        12.,  13.,  14.,  15.,  16.,  17.,  18.,  19.,  20.,  21.,  22.,\n",
       "        23.,  24.,  25.])"
      ]
     },
     "execution_count": 7,
     "metadata": {},
     "output_type": "execute_result"
    }
   ],
   "source": [
    "#linspace\n",
    "#linspace nos devuelve un vector con la cantidad de muestras que le ingresemos y separados uniformamente entre sí.\n",
    "np.linspace(1, 25, 25)  # argumentos: start, stop, samples"
   ]
  },
  {
   "cell_type": "code",
   "execution_count": 8,
   "metadata": {
    "collapsed": false
   },
   "outputs": [
    {
     "data": {
      "text/plain": [
       "array([[0, 0, 0, 0, 0],\n",
       "       [1, 1, 1, 1, 1],\n",
       "       [2, 2, 2, 2, 2],\n",
       "       [3, 3, 3, 3, 3],\n",
       "       [4, 4, 4, 4, 4]])"
      ]
     },
     "execution_count": 8,
     "metadata": {},
     "output_type": "execute_result"
    }
   ],
   "source": [
    "#mgrid\n",
    "#Con mgrid podemos crear arrays multimensionales.\n",
    "x, y = np.mgrid[0:5, 0:5] \n",
    "\n",
    "x"
   ]
  },
  {
   "cell_type": "code",
   "execution_count": 9,
   "metadata": {
    "collapsed": false
   },
   "outputs": [
    {
     "data": {
      "text/plain": [
       "array([[0, 1, 2, 3, 4],\n",
       "       [0, 1, 2, 3, 4],\n",
       "       [0, 1, 2, 3, 4],\n",
       "       [0, 1, 2, 3, 4],\n",
       "       [0, 1, 2, 3, 4]])"
      ]
     },
     "execution_count": 9,
     "metadata": {},
     "output_type": "execute_result"
    }
   ],
   "source": [
    "y"
   ]
  },
  {
   "cell_type": "code",
   "execution_count": 10,
   "metadata": {
    "collapsed": false
   },
   "outputs": [
    {
     "data": {
      "text/plain": [
       "array([[ 0.,  0.,  0.],\n",
       "       [ 0.,  0.,  0.],\n",
       "       [ 0.,  0.,  0.]])"
      ]
     },
     "execution_count": 10,
     "metadata": {},
     "output_type": "execute_result"
    }
   ],
   "source": [
    "#zeros y ones\n",
    "#Estas funciones nos permiten crear matrices de ceros o de unos.\n",
    "np.zeros((3,3))"
   ]
  },
  {
   "cell_type": "code",
   "execution_count": 11,
   "metadata": {
    "collapsed": false
   },
   "outputs": [
    {
     "data": {
      "text/plain": [
       "array([[ 1.,  1.,  1.],\n",
       "       [ 1.,  1.,  1.],\n",
       "       [ 1.,  1.,  1.]])"
      ]
     },
     "execution_count": 11,
     "metadata": {},
     "output_type": "execute_result"
    }
   ],
   "source": [
    "np.ones((3,3))"
   ]
  },
  {
   "cell_type": "code",
   "execution_count": 12,
   "metadata": {
    "collapsed": false
   },
   "outputs": [
    {
     "data": {
      "text/plain": [
       "array([[ 1.39342127,  0.27553779,  1.60499887,  0.49998319,  0.70528917],\n",
       "       [ 0.77384386,  0.13082401, -0.94628073,  1.11938778, -0.03671148],\n",
       "       [-1.26643358, -0.49647634,  0.02653584,  1.69748904,  0.83353017],\n",
       "       [ 2.37892618, -1.21239237,  1.12638933,  1.70430737,  0.50932112],\n",
       "       [-0.67529314, -0.48119409, -0.6064923 ,  0.03554073, -0.29703706]])"
      ]
     },
     "execution_count": 12,
     "metadata": {},
     "output_type": "execute_result"
    }
   ],
   "source": [
    "#random.randn\n",
    "#Esta funcion nos permite generar una matriz con una distribución estándar de números.\n",
    "np.random.randn(5,5)"
   ]
  },
  {
   "cell_type": "code",
   "execution_count": 13,
   "metadata": {
    "collapsed": false
   },
   "outputs": [
    {
     "data": {
      "text/plain": [
       "array([[1, 0, 0],\n",
       "       [0, 1, 0],\n",
       "       [0, 0, 1]])"
      ]
     },
     "execution_count": 13,
     "metadata": {},
     "output_type": "execute_result"
    }
   ],
   "source": [
    "#diag\n",
    "#Nos permite crear una matriz con la diagonal de números que le ingresemos.\n",
    "np.diag([1,1,1])"
   ]
  },
  {
   "cell_type": "markdown",
   "metadata": {},
   "source": [
    "##Matplotlib"
   ]
  },
  {
   "cell_type": "markdown",
   "metadata": {},
   "source": [
    "[Matplotlib](http://matplotlib.org/) es la librería más popular en [Python](http://python.org/) para visualizaciones y gráficos. [Matplotlib](http://matplotlib.org/) puede producir gráficos de alta calidad dignos de cualquier publicación científica.\n",
    "\n",
    "Algunas de las muchas ventajas que nos ofrece [Matplotlib](http://matplotlib.org/), incluyen:\n",
    "\n",
    "* Es fácil de aprender.\n",
    "* Soporta texto, títulos y etiquetas en formato $\\LaTeX$.\n",
    "* Proporciona un gran control sobre cada uno de los elementos de las figuras, como ser su tamaño, el trazado de sus líneas, etc.\n",
    "* Nos permite crear gráficos y figuras de gran calidad que pueden ser guardados en varios formatos, como ser: PNG, PDF, SVG, EPS, y PGF.\n",
    "\n",
    "[Matplotlib](http://matplotlib.org/) se integra de maravilla con [IPython](http://ipython.org/) (ver más abajo), lo que nos proporciona un ambiente confortable para las visualizaciones y la exploración de datos interactiva.\n",
    "\n"
   ]
  },
  {
   "cell_type": "markdown",
   "metadata": {},
   "source": [
    "###Algunos gráficos con Matplotlib"
   ]
  },
  {
   "cell_type": "code",
   "execution_count": 1,
   "metadata": {
    "collapsed": false
   },
   "outputs": [],
   "source": [
    "#Generalmente se suele importar matplotlib de la siguiente forma.\n",
    "import matplotlib.pyplot as plt"
   ]
  },
  {
   "cell_type": "markdown",
   "metadata": {},
   "source": [
    "Ahora vamos a graficar la siguiente función.\n",
    "\n",
    "$f(x) = e^{-x^2}$"
   ]
  },
  {
   "cell_type": "code",
   "execution_count": 2,
   "metadata": {
    "collapsed": false
   },
   "outputs": [],
   "source": [
    "# Definimos nuestra función.\n",
    "def f(x):\n",
    "    return np.exp(-x ** 2)"
   ]
  },
  {
   "cell_type": "code",
   "execution_count": 8,
   "metadata": {
    "collapsed": false
   },
   "outputs": [
    {
     "name": "stderr",
     "output_type": "stream",
     "text": [
      "ERROR: Line magic function `%matplotib` not found.\n"
     ]
    }
   ],
   "source": [
    "#Creamos un vector con los puntos que le pasaremos a la funcion previamente creada.\n",
    "x = np.linspace(-1, 5, num=30)\n"
   ]
  },
  {
   "cell_type": "code",
   "execution_count": 6,
   "metadata": {
    "collapsed": false
   },
   "outputs": [],
   "source": [
    "#Representeamos la función utilizando el objeto plt de matplotlib\n",
    "plt.xlabel(\"Eje $x$\")\n",
    "plt.ylabel(\"$f(x)$\")\n",
    "plt.legend()\n",
    "plt.title(\"Funcion $f(x)$\")\n",
    "plt.grid(True)\n",
    "fig = plt.plot(x, f(x), label=\"Función f(x)\")\n"
   ]
  },
  {
   "cell_type": "code",
   "execution_count": 7,
   "metadata": {
    "collapsed": false
   },
   "outputs": [],
   "source": [
    "#Grafico de puntos con matplotlib\n",
    "N = 100\n",
    "x1 = np.random.randn(N) #creando vector x\n",
    "y1 = np.random.randn(N) #creando vector x\n",
    "\n",
    "s = 50 + 50 * np.random.randn(N) #variable para modificar el tamaño(size)\n",
    "c = np.random.randn(N) #variable para modificar el color(color)\n",
    "\n",
    "plt.scatter(x1, y1, s=s, c=c, cmap=plt.cm.Blues) \n",
    "plt.grid(True)\n",
    "plt.colorbar()\n",
    "\n",
    "fig = plt.scatter(x1, y1)"
   ]
  },
  {
   "cell_type": "markdown",
   "metadata": {},
   "source": [
    "###Interface orientada a objetos de matplotlib"
   ]
  },
  {
   "cell_type": "markdown",
   "metadata": {},
   "source": [
    "La idea principal con la [programación orientada a objetos](http://es.wikipedia.org/wiki/Programaci%C3%B3n_orientada_a_objetos) es que a los objetos que se pueden aplicar funciones y acciones, y ningun objeto debería tener un estado global (como en el caso de la interface con plt que acabamos de utilizar). La verdadera ventaja de este enfoque se hace evidente cuando se crean más de una figura, o cuando una figura contiene más de una trama secundaria. \n",
    "\n",
    "Para utilizar la [API](http://es.wikipedia.org/wiki/API) [orientada a objetos](http://es.wikipedia.org/wiki/Programaci%C3%B3n_orientada_a_objetos) comenzamos de forma similar al ejemplo anterior, pero en lugar de crear una nueva instancia global de `plt`, almacenamos una referencia a la recientemente creada figura en la variable `fig`, y a partir de ella creamos un nuevo eje `ejes` usando el método `add_axes` de la instancia `Figure`:\n"
   ]
  },
  {
   "cell_type": "code",
   "execution_count": 1,
   "metadata": {
    "collapsed": false
   },
   "outputs": [],
   "source": [
    "%matplotlib inline"
   ]
  },
  {
   "cell_type": "code",
   "execution_count": 19,
   "metadata": {
    "collapsed": false
   },
   "outputs": [
    {
     "data": {
      "image/png": "[encoded data removed]",
      "text/plain": [
       "<matplotlib.figure.Figure at 0x7f8f960ba310>"
      ]
     },
     "metadata": {},
     "output_type": "display_data"
    }
   ],
   "source": [
    "x = linspace(0, 5, 10) # Conjunto de puntos\n",
    "y = x ** 2 # Funcion\n",
    "\n",
    "fig = plt.figure()\n",
    "\n",
    "axes1 = fig.add_axes([0.1, 0.1, 0.8, 0.8]) # Eje principal\n",
    "axes2 = fig.add_axes([0.2, 0.5, 0.4, 0.3]) # Eje secundario\n",
    "\n",
    "# Figura principal\n",
    "axes1.plot(x, y, 'r')\n",
    "axes1.set_xlabel('x')\n",
    "axes1.set_ylabel('y')\n",
    "axes1.set_title('Ej OOP')\n",
    "\n",
    "# Insertada\n",
    "axes2.plot(y, x, 'g')\n",
    "axes2.set_xlabel('y')\n",
    "axes2.set_ylabel('x')\n",
    "axes2.set_title('insertado');"
   ]
  },
  {
   "cell_type": "code",
   "execution_count": 20,
   "metadata": {
    "collapsed": false
   },
   "outputs": [
    {
     "data": {
      "image/png": "[encoded data removed]",
      "text/plain": [
       "<matplotlib.figure.Figure at 0x7f8f961eb510>"
      ]
     },
     "metadata": {},
     "output_type": "display_data"
    }
   ],
   "source": [
    "# Ejemplo con más de una figura.\n",
    "fig, axes = plt.subplots(nrows=1, ncols=2)\n",
    "\n",
    "for ax in axes:\n",
    "    ax.plot(x, y, 'r')\n",
    "    ax.set_xlabel('x')\n",
    "    ax.set_ylabel('y')\n",
    "    ax.set_title('titulo')\n",
    "    \n",
    "fig.tight_layout()"
   ]
  },
  {
   "cell_type": "markdown",
   "metadata": {},
   "source": [
    "##IPython"
   ]
  },
  {
   "cell_type": "markdown",
   "metadata": {},
   "source": [
    "[IPython](http://ipython.org/) promueve un ambiente de trabajo de *ejecutar-explorar* en contraposición al tradicional modelo de desarrollo de software de *editar-compilar-ejecutar*. Es decir, que el problema computacional a resolver es más visto como todo un proceso de ejecucion de tareas, en lugar del tradicional modelo de producir una respuesta(`output`) a una pregunta(`input`).  [IPython](http://ipython.org/) tambien provee una estrecha integración con nuestro sistema operativo, permitiéndonos acceder facilmente a todos nuestros archivos desde la misma herramienta.\n",
    "\n",
    "Algunas de las caracteristicas sobresalientes de [IPython](http://ipython.org/) son:\n",
    "\n",
    "* Su poderoso <a href='http://es.wikipedia.org/wiki/Shell_(inform%C3%A1tica)' target='_blank'>shell</a> interactivo.\n",
    "* [Notebook](http://ipython.org/notebook.html), su inteface web con soporte para código, texto, expresiones matemáticas, gráficos en linea y multimedia.\n",
    "* Su soporte para poder realizar visualizaciones de datos en forma interactiva. [IPython](http://ipython.org/) esta totalmente integrado con [matplotlib](http://matplotlib.org/).\n",
    "* Su simple y flexible interface para trabajar con la [computación paralela](http://es.wikipedia.org/wiki/Computaci%C3%B3n_paralela).\n",
    "\n",
    "[IPython](http://ipython.org/) es mucho más que una librería, es todo un ambiente de trabajo que nos facilita enormemente trabajar con  [Python](http://python.org/); las mismas páginas de este blog estan desarrolladas con la ayuda del fantastico [Notebook](http://ipython.org/notebook.html) de [IPython](http://ipython.org/). (para ver el [Notebook](http://ipython.org/notebook.html) en el que se basa este artículo, visiten el siguiente [enlace](http://nbviewer.ipython.org/github/relopezbriega/relopezbriega.github.io/blob/master/downloads/Python-Librerias-esenciales.ipynb).)\n",
    "\n",
    "Para más información sobre [IPython](http://ipython.org/) y algunas de sus funciones los invito también a visitar el [artículo](http://relopezbriega.com.ar/2014/python/ipython-y-la-computacion-interactiva/) que escribi en mi otro [blog](http://relopezbriega.com.ar/)."
   ]
  },
  {
   "cell_type": "markdown",
   "metadata": {},
   "source": [
    "##Pandas"
   ]
  },
  {
   "cell_type": "markdown",
   "metadata": {},
   "source": [
    "[Pandas](http://pandas.pydata.org/) es una librería [open source](http://es.wikipedia.org/wiki/C%C3%B3digo_abierto) que aporta a [Python](http://python.org/) unas estructuras de datos fáciles de user y de alta performance, junto con un gran número de funciones esenciales para el analisis de datos. Con la ayuda de [Pandas](http://pandas.pydata.org/) podemos trabajar con *datos estructurados* de una forma más rápida y expresiva.\n",
    "\n",
    "Algunas de las cosas sobresalientes que nos aporta [Pandas](http://pandas.pydata.org/) son:\n",
    "\n",
    "* Un rápido y eficiente objeto **`DataFrame`** para manipular datos con indexación integrada;\n",
    "* herramientas para la **lectura y escritura de datos** entre estructuras de datos rápidas y eficientes manejadas en memoria, como el `DataFrame`, con la mayoría de los formatos conocidos para el manejo de datos, como ser: CSV y archivos de texto, archivos Microsoft Excel, bases de datos [SQL](http://es.wikipedia.org/wiki/SQL), y el formato científico HDF5.\n",
    "* Proporciona una **alineación inteligente de datos** y un manejo integrado de los datos faltantes; con estas funciones podemos obtener una ganancia de performace en los cálculos entre `DataFrames` y una fácil manipulación y ordenamiento de los datos de nuestro `data set`;\n",
    "* Flexibilidad para **manipular y redimensionar** nuestro `data set`, facilidad para construir [tablas pivote](http://es.wikipedia.org/wiki/Tabla_pivote);\n",
    "* La posibilidad de **filtrar los datos, agregar o eliminar columnas** de una forma sumamente expresiva;\n",
    "* Operaciones de ***merge* y *join*** altamente eficientes sobre nuestros conjuntos de datos;\n",
    "* **Indexación jerárquica** que proporciona una forma intuitiva de trabajar con datos de alta dimensión en una estructura de datos de menor dimensión ;\n",
    "* Posibilidad de realizar cálculos agregados o transformaciones de datos con el poderoso motor **`group by`** que nos permite dividir-aplicar-combinar nuestros conjuntos de datos;\n",
    "* combina las **características de las matrices de alto rendimiento de [Numpy](http://www.numpy.org/) con las flexibles capacidades de manipulación de datos de las hojas de cálculo** y bases de datos relacionales (tales como [SQL](http://es.wikipedia.org/wiki/SQL));\n",
    "* Gran número de funcionalidades para el manejo de **[series de tiempo](http://es.wikipedia.org/wiki/Serie_temporal)** ideales para el analisis financiero;\n",
    "* Todas sus funciones y estructuras de datos estan **optimizadas para el alto rendimiento**, con las partes críticas del código escritas en [Cython](http://www.cython.org/) o [C](http://es.wikipedia.org/wiki/C_(lenguaje_de_programaci%C3%B3n);"
   ]
  },
  {
   "cell_type": "markdown",
   "metadata": {},
   "source": [
    "###Estructuras de datos de Pandas"
   ]
  },
  {
   "cell_type": "code",
   "execution_count": 21,
   "metadata": {
    "collapsed": false
   },
   "outputs": [],
   "source": [
    "# Importando pandas\n",
    "import pandas as pd"
   ]
  },
  {
   "cell_type": "markdown",
   "metadata": {},
   "source": [
    "####Series"
   ]
  },
  {
   "cell_type": "code",
   "execution_count": 22,
   "metadata": {
    "collapsed": false
   },
   "outputs": [
    {
     "data": {
      "text/plain": [
       "0    2\n",
       "1    4\n",
       "2   -8\n",
       "3    3\n",
       "dtype: int64"
      ]
     },
     "execution_count": 22,
     "metadata": {},
     "output_type": "execute_result"
    }
   ],
   "source": [
    "# Las series son matrices de una sola dimension similares a los vectores, pero con su propio indice.\n",
    "# Creando una Serie\n",
    "serie = pd.Series([2, 4, -8, 3])\n",
    "serie"
   ]
  },
  {
   "cell_type": "code",
   "execution_count": 23,
   "metadata": {
    "collapsed": false
   },
   "outputs": [
    {
     "name": "stdout",
     "output_type": "stream",
     "text": [
      "[ 2  4 -8  3]\n",
      "Int64Index([0, 1, 2, 3], dtype='int64')\n"
     ]
    }
   ],
   "source": [
    "# podemos ver tantos los índices como los valores de las Series.\n",
    "print serie.values\n",
    "print serie.index"
   ]
  },
  {
   "cell_type": "code",
   "execution_count": 24,
   "metadata": {
    "collapsed": false
   },
   "outputs": [
    {
     "data": {
      "text/plain": [
       "d    2\n",
       "b    4\n",
       "a   -8\n",
       "c    3\n",
       "dtype: int64"
      ]
     },
     "execution_count": 24,
     "metadata": {},
     "output_type": "execute_result"
    }
   ],
   "source": [
    "# Creando Series con nuestros propios índices.\n",
    "serie2 = pd.Series([2, 4, -8, 3], index=['d', 'b', 'a', 'c'])\n",
    "serie2"
   ]
  },
  {
   "cell_type": "code",
   "execution_count": 25,
   "metadata": {
    "collapsed": false
   },
   "outputs": [
    {
     "name": "stdout",
     "output_type": "stream",
     "text": [
      "-8\n",
      "b    4\n",
      "c    3\n",
      "d    2\n",
      "dtype: int64\n",
      "d    2\n",
      "b    4\n",
      "c    3\n",
      "dtype: int64\n"
     ]
    }
   ],
   "source": [
    "# Accediendo a los datos a través de los índices\n",
    "print serie2['a']\n",
    "print serie2[['b', 'c', 'd']]\n",
    "print serie2[serie2 > 0]"
   ]
  },
  {
   "cell_type": "markdown",
   "metadata": {},
   "source": [
    "####DataFrame"
   ]
  },
  {
   "cell_type": "code",
   "execution_count": 26,
   "metadata": {
    "collapsed": false
   },
   "outputs": [
    {
     "data": {
      "text/html": [
       "<div style=\"max-height:1000px;max-width:1500px;overflow:auto;\">\n",
       "<table border=\"1\" class=\"dataframe\">\n",
       "  <thead>\n",
       "    <tr style=\"text-align: right;\">\n",
       "      <th></th>\n",
       "      <th>pop</th>\n",
       "      <th>state</th>\n",
       "      <th>year</th>\n",
       "    </tr>\n",
       "  </thead>\n",
       "  <tbody>\n",
       "    <tr>\n",
       "      <th>0</th>\n",
       "      <td> 1.5</td>\n",
       "      <td>   Ohio</td>\n",
       "      <td> 2000</td>\n",
       "    </tr>\n",
       "    <tr>\n",
       "      <th>1</th>\n",
       "      <td> 1.7</td>\n",
       "      <td>   Ohio</td>\n",
       "      <td> 2001</td>\n",
       "    </tr>\n",
       "    <tr>\n",
       "      <th>2</th>\n",
       "      <td> 3.6</td>\n",
       "      <td>   Ohio</td>\n",
       "      <td> 2002</td>\n",
       "    </tr>\n",
       "    <tr>\n",
       "      <th>3</th>\n",
       "      <td> 2.4</td>\n",
       "      <td> Nevada</td>\n",
       "      <td> 2001</td>\n",
       "    </tr>\n",
       "    <tr>\n",
       "      <th>4</th>\n",
       "      <td> 2.9</td>\n",
       "      <td> Nevada</td>\n",
       "      <td> 2002</td>\n",
       "    </tr>\n",
       "  </tbody>\n",
       "</table>\n",
       "<p>5 rows × 3 columns</p>\n",
       "</div>"
      ],
      "text/plain": [
       "   pop   state  year\n",
       "0  1.5    Ohio  2000\n",
       "1  1.7    Ohio  2001\n",
       "2  3.6    Ohio  2002\n",
       "3  2.4  Nevada  2001\n",
       "4  2.9  Nevada  2002\n",
       "\n",
       "[5 rows x 3 columns]"
      ]
     },
     "execution_count": 26,
     "metadata": {},
     "output_type": "execute_result"
    }
   ],
   "source": [
    "# El DataFrame es una estructura de datos tabular similar a las hojas de cálculo de Excel.\n",
    "# Posee tanto indices de columnas como de filas.\n",
    "\n",
    "# Creando un DataFrame.\n",
    "data = {'state': ['Ohio', 'Ohio', 'Ohio', 'Nevada', 'Nevada'],\n",
    "        'year' : [2000, 2001, 2002, 2001, 2002],\n",
    "        'pop'  : [1.5, 1.7, 3.6, 2.4, 2.9]}\n",
    "frame = pd.DataFrame(data) # Creando un DataFrame desde un diccionario\n",
    "frame"
   ]
  },
  {
   "cell_type": "code",
   "execution_count": 27,
   "metadata": {
    "collapsed": false
   },
   "outputs": [
    {
     "name": "stdout",
     "output_type": "stream",
     "text": [
      "pop,state,year\r\n",
      "1.5,Ohio,2000\r\n",
      "1.7,Ohio,2001\r\n",
      "3.6,Ohio,2002\r\n",
      "2.4,Nevada,2001\r\n",
      "2.9,Nevada,2002\r\n"
     ]
    }
   ],
   "source": [
    "# Creando un DataFrame desde un archivo.\n",
    "!cat 'dataset.csv' # ejemplo archivo csv."
   ]
  },
  {
   "cell_type": "code",
   "execution_count": 28,
   "metadata": {
    "collapsed": false
   },
   "outputs": [
    {
     "data": {
      "text/html": [
       "<div style=\"max-height:1000px;max-width:1500px;overflow:auto;\">\n",
       "<table border=\"1\" class=\"dataframe\">\n",
       "  <thead>\n",
       "    <tr style=\"text-align: right;\">\n",
       "      <th></th>\n",
       "      <th>pop</th>\n",
       "      <th>state</th>\n",
       "      <th>year</th>\n",
       "    </tr>\n",
       "  </thead>\n",
       "  <tbody>\n",
       "    <tr>\n",
       "      <th>0</th>\n",
       "      <td> 1.5</td>\n",
       "      <td>   Ohio</td>\n",
       "      <td> 2000</td>\n",
       "    </tr>\n",
       "    <tr>\n",
       "      <th>1</th>\n",
       "      <td> 1.7</td>\n",
       "      <td>   Ohio</td>\n",
       "      <td> 2001</td>\n",
       "    </tr>\n",
       "    <tr>\n",
       "      <th>2</th>\n",
       "      <td> 3.6</td>\n",
       "      <td>   Ohio</td>\n",
       "      <td> 2002</td>\n",
       "    </tr>\n",
       "    <tr>\n",
       "      <th>3</th>\n",
       "      <td> 2.4</td>\n",
       "      <td> Nevada</td>\n",
       "      <td> 2001</td>\n",
       "    </tr>\n",
       "    <tr>\n",
       "      <th>4</th>\n",
       "      <td> 2.9</td>\n",
       "      <td> Nevada</td>\n",
       "      <td> 2002</td>\n",
       "    </tr>\n",
       "  </tbody>\n",
       "</table>\n",
       "<p>5 rows × 3 columns</p>\n",
       "</div>"
      ],
      "text/plain": [
       "   pop   state  year\n",
       "0  1.5    Ohio  2000\n",
       "1  1.7    Ohio  2001\n",
       "2  3.6    Ohio  2002\n",
       "3  2.4  Nevada  2001\n",
       "4  2.9  Nevada  2002\n",
       "\n",
       "[5 rows x 3 columns]"
      ]
     },
     "execution_count": 28,
     "metadata": {},
     "output_type": "execute_result"
    }
   ],
   "source": [
    "# Leyendo el archivo dataset.csv para crear el DataFrame\n",
    "frame2 = pd.read_csv('dataset.csv', header=0) \n",
    "frame2"
   ]
  },
  {
   "cell_type": "code",
   "execution_count": 29,
   "metadata": {
    "collapsed": false
   },
   "outputs": [
    {
     "data": {
      "text/plain": [
       "0      Ohio\n",
       "1      Ohio\n",
       "2      Ohio\n",
       "3    Nevada\n",
       "4    Nevada\n",
       "Name: state, dtype: object"
      ]
     },
     "execution_count": 29,
     "metadata": {},
     "output_type": "execute_result"
    }
   ],
   "source": [
    "# Seleccionando una columna como una Serie\n",
    "frame['state']"
   ]
  },
  {
   "cell_type": "code",
   "execution_count": 30,
   "metadata": {
    "collapsed": false
   },
   "outputs": [
    {
     "data": {
      "text/plain": [
       "pop       1.7\n",
       "state    Ohio\n",
       "year     2001\n",
       "Name: 1, dtype: object"
      ]
     },
     "execution_count": 30,
     "metadata": {},
     "output_type": "execute_result"
    }
   ],
   "source": [
    "# Seleccionando una línea como una Serie.\n",
    "frame.ix[1]"
   ]
  },
  {
   "cell_type": "code",
   "execution_count": 31,
   "metadata": {
    "collapsed": false
   },
   "outputs": [
    {
     "data": {
      "text/plain": [
       "Index([u'pop', u'state', u'year'], dtype='object')"
      ]
     },
     "execution_count": 31,
     "metadata": {},
     "output_type": "execute_result"
    }
   ],
   "source": [
    "# Verificando las columnas\n",
    "frame.columns"
   ]
  },
  {
   "cell_type": "code",
   "execution_count": 32,
   "metadata": {
    "collapsed": false
   },
   "outputs": [
    {
     "data": {
      "text/plain": [
       "Int64Index([0, 1, 2, 3, 4], dtype='int64')"
      ]
     },
     "execution_count": 32,
     "metadata": {},
     "output_type": "execute_result"
    }
   ],
   "source": [
    "# Verificando los índices.\n",
    "frame.index"
   ]
  },
  {
   "cell_type": "markdown",
   "metadata": {},
   "source": [
    "##Otras librerías dignas de mencion"
   ]
  },
  {
   "cell_type": "markdown",
   "metadata": {},
   "source": [
    "Otras librerías que también son muy importantes para el analisis de datos con [Python](http://python.org/) son:"
   ]
  },
  {
   "cell_type": "markdown",
   "metadata": {},
   "source": [
    "###SciPy"
   ]
  },
  {
   "cell_type": "markdown",
   "metadata": {},
   "source": [
    "[SciPy](http://www.scipy.org/) es un conjunto de paquetes donde cada uno ellos ataca un problema distinto dentro de la computación científica y el analisis numérico. Algunos de los paquetes que incluye, son:\n",
    "\n",
    "* **`scipy.integrate`**: que proporciona diferentes funciones para resolver problemas de integración numérica.\n",
    "* **`scipy.linalg`**: que proporciona funciones para resolver problemas de algebra lineal.\n",
    "* **`scipy.optimize`**: para los problemas de optimizacion y minimizacion.\n",
    "* **`scipy.signal`**: para el analisis y procesamiento de señales.\n",
    "* **`scipy.sparse`**: para matrices dispersas y solucionadores de sistemas lineales dispersos\n",
    "* **`scipy.stats`**: para el analisis de estadística y probabilidades.\n"
   ]
  },
  {
   "cell_type": "markdown",
   "metadata": {},
   "source": [
    "###Scikit-learn"
   ]
  },
  {
   "cell_type": "markdown",
   "metadata": {},
   "source": [
    "[Scikit-learn](http://scikit-learn.org/stable/) es una librería especializada en algoritmos para [data mining](http://es.wikipedia.org/wiki/Miner%C3%ADa_de_datos) y [machine learning](http://es.wikipedia.org/wiki/Machine_learning).  \n",
    "\n",
    "Algunos de los problemas que podemos resolver utilizando las herramientas de [Scikit-learn](http://scikit-learn.org/stable/), son:\n",
    "\n",
    "* <a href='http://scikit-learn.org/stable/supervised_learning.html#supervised-learning' target='_blank'>Clasificaciones</a>: Identificar las categorías a que cada observación del conjunto de datos pertenece.\n",
    "* <a href='http://scikit-learn.org/stable/supervised_learning.html#supervised-learning' target='_blank'>Regresiones</a>: Predecire el valor continuo para cada nuevo ejemplo.\n",
    "* <a href='http://scikit-learn.org/stable/modules/clustering.html#clustering' target='_blank'>Agrupaciones</a>: Agrupación automática de objetos similares en un conjunto.\n",
    "* <a href='http://scikit-learn.org/stable/modules/decomposition.html#decompositions' target='_blank'>Reducción de dimensiones</a>: Reducir el número de variables aleatorias a considerar.\n",
    "* <a href='http://scikit-learn.org/stable/model_selection.html#model-selection' target='_blank'>Selección de Modelos</a>: Comparar, validar y elegir parámetros y modelos.\n",
    "* <a href='http://scikit-learn.org/stable/modules/preprocessing.html#preprocessing' target='_blank'>Preprocesamiento</a>: Extracción de caracteristicas a analizar y normalización de datos."
   ]
  }
 ],
 "metadata": {
  "kernelspec": {
   "display_name": "Python 3",
   "language": "python",
   "name": "python3"
  },
  "language_info": {
   "codemirror_mode": {
    "name": "ipython",
    "version": 3
   },
   "file_extension": ".py",
   "mimetype": "text/x-python",
   "name": "python",
   "nbconvert_exporter": "python",
   "pygments_lexer": "ipython3",
   "version": "3.4.3"
  }
 },
 "nbformat": 4,
 "nbformat_minor": 0
}
