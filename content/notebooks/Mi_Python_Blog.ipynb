{
 "metadata": {
  "name": "",
  "signature": "sha256:58221e278908602630cac1bc5b57299f342ff1a975efbc4d7df95c031ac5a684"
 },
 "nbformat": 3,
 "nbformat_minor": 0,
 "worksheets": [
  {
   "cells": [
    {
     "cell_type": "markdown",
     "metadata": {},
     "source": [
      "#Mi Python Blog\n",
      "\n"
     ]
    },
    {
     "cell_type": "markdown",
     "metadata": {},
     "source": [
      "Hoy comienzo mi nuevo blog en <a href=\"https://github.com/\" target=\"_blank\" title=\"Pagina de github\">github</a>; este nuevo blog, que se suma a a mi otro blog <a href=\"http://relopezbriega.com.ar\" target=\"_blank\" title =\"Mi otro blog\">relopezbriega.com.ar</a>, lo voy a dedicar enteramente a <a href=\"http://python.org\" target=\"_blank\" title=\"Python\">Python</a>. Por tal motivo, en este primer art\u00edculo, voy a explicar a grandes rasgos que es <a href=\"http://python.org\" target=\"_blank\" title=\"Python\">Python</a> y por qu\u00e9 me gusta tanto trabajar con [Python](http://python.org) como para dedicarle este blog.\n",
      "\n",
      "<a href=\"http://python.org\" target=\"_blank\" title=\"Python\">Python</a> es un lenguaje de programaci\u00f3n de alto nivel que se caracteriza por hacer hincapi\u00e9 en una sintaxis limpia, que favorece un c\u00f3digo legible y facilmente administrable. <a href=\"http://python.org\" target=\"_blank\" title=\"Python\">Python</a> funciona en las plataformas Windows, Linux/Unix, Mac OS X e incluso ha sido portado a las m\u00e1quinas virtuales de <a href=\"http://es.wikipedia.org/wiki/JVM\" target=\"_blank\" title=\"M\u00e1quina virtual Java\">Java</a> (a trav\u00e9s de [Jython](http://www.jython.org/)) y [.Net](http://es.wikipedia.org/wiki/Microsoft_.NET) (a trav\u00e9s de [IronPython](http://ironpython.codeplex.com/)). <a href=\"http://python.org\" target=\"_blank\" title=\"Python\">Python</a> es un lenguaje libre y f\u00e1cil de aprender que te permite trabajar m\u00e1s r\u00e1pido e integrar tus sistemas de manera m\u00e1s eficaz; con <a href=\"http://python.org\" target=\"_blank\" title=\"Python\">Python</a> se puede ganar rapidamente en productividad.\n",
      "\n",
      "[Python](http://python.org), a diferencia de otros lenguajes de programaci\u00f3n como [C](http://es.wikipedia.org/wiki/C_(lenguaje_de_programaci%C3%B3n), [C++](http://es.wikipedia.org/wiki/C%2B%2B) o [Java](http://es.wikipedia.org/wiki/Java_(lenguaje_de_programaci%C3%B3n) es *interpretado y dinamicamente tipado*; lo que quiere decir que no es necesario compilar el fuente para poder ejecutarlo (*interpretado*) y que sus variables pueden tomar distintos tipos de objetos (*dinamicamente tipado*); esto hace que el lenguaje sea sumamente flexible y de r\u00e1pida implementaci\u00f3n; aunque pierde en rendimiento y es m\u00e1s propenso a errores de programaci\u00f3n que los lenguajes antes mencionados.\n"
     ]
    },
    {
     "cell_type": "markdown",
     "metadata": {},
     "source": [
      "##Principales fortalezas de Python##"
     ]
    },
    {
     "cell_type": "markdown",
     "metadata": {},
     "source": [
      "Las principales fortalezas que hacen que uno ame a [Python](http://python.org) son:\n",
      "\n",
      "* **Es Orientado a Objetos.** [Python](http://python.org) es un lenguaje de programaci\u00f3n [Orientado a Objetos](http://es.wikipedia.org/wiki/Programaci%C3%B3n_orientada_a_objetos) desde casi su concepci\u00f3n, su modelo de clases soporta las notaciones avanzadas de polimorfismo, sobrecarga de operadores y herencia m\u00faltiple. La programaci\u00f3n [Orientado a Objetos](http://es.wikipedia.org/wiki/Programaci%C3%B3n_orientada_a_objetos) es sumamente f\u00e1cil de aplicar con la sintaxis simple que nos proporciona [Python](http://python.org). Asimismo, tambi\u00e9n es importante destacar que en [Python](http://python.org), la programaci\u00f3n [Orientado a Objetos](http://es.wikipedia.org/wiki/Programaci%C3%B3n_orientada_a_objetos) es una opci\u00f3n y no algo obligatorio como es en [Java](http://es.wikipedia.org/wiki/Java_(lenguaje_de_programaci%C3%B3n); ya que [Python](http://python.org) es *multiparadigma* y nos permite programar siguiendo un modelo [Orientado a Objetos](http://es.wikipedia.org/wiki/Programaci%C3%B3n_orientada_a_objetos) o un modelo [imperativo](http://es.wikipedia.org/wiki/Programaci%C3%B3n_imperativa).\n",
      "\n",
      "* **Es software libre**. [Python](http://python.org) es complementamente libre para ser utilizado y redistribu\u00eddo; no posee restricciones para copiarlo, embeberlo en nuestros sistemas o ser vendido junto con otros productos. [Python](http://python.org) es un proyecto [*open source*](http://es.wikipedia.org/wiki/Open_source) que es administrado por [Python Software Foundation](http://es.wikipedia.org/wiki/Python_Software_Foundation), instutici\u00f3n que se encarga de su suporte y desarrollo.\n",
      "\n",
      "* **Es portable**. La implementaci\u00f3n estandar de [Python](http://python.org) esta escrita en [C](http://es.wikipedia.org/wiki/C_(lenguaje_de_programaci%C3%B3n), y puede ser compilada y ejecutada en pr\u00e1cticamente cualquier plataforma que se les ocurra. Podemos encontrar a [Python](http://python.org) en peque\u00f1os dispositivos, como telefonos celulares, hasta grandes infraestructuras de *Hardware*, como las supercomputadoras. Al ser un lenguaje *interpretado* el mismo *c\u00f3digo fuente* puede ser ejecutado en cualquier plataforma sin necesidad de realizar grandes cambios.\n",
      "\n",
      "* **Es poderoso**. [Python](http://python.org) proporciona toda la sencillez y facilidad de uso de un lenguaje de programaci\u00f3n *interpretado*, junto con las m\u00e1s avanzadas herramientas de ingenier\u00eda de software que se encuentran t\u00edpicamente en los lenguajes compilados. A diferencia de otros lenguajes *interpretados*, esta combinaci\u00f3n hace a [Python](http://python.org) sumamente \u00fatil para proyectos de desarrollo a gran escala.\n",
      "\n",
      "* **F\u00e1cil integraci\u00f3n**. Los programas escritos en [Python](http://python.org) pueden ser facilmente integrados con componentes escritos en otros lenguajes. Por ejemplo la [C](http://es.wikipedia.org/wiki/C_(lenguaje_de_programaci%C3%B3n) [API](http://es.wikipedia.org/wiki/API) de [Python](http://python.org) permite una fac\u00edl integraci\u00f3n entre los dos lenguajes, permitiendo que los programas escritos en [Python](http://python.org) puedan llamar a funciones escritas en [C](http://es.wikipedia.org/wiki/C_(lenguaje_de_programaci%C3%B3n) y viceversa. \n",
      "\n",
      "* **F\u00e1cil de usar**. Para ejecutar un programa en [Python](http://python.org) simplemente debemos escribirlo y ejecutarlo, no existen pasos intermedios de linkeo o compilaci\u00f3n como podemos tener en otros lenguajes de programaci\u00f3n. Con [Python](http://python.org) podemos programar en forma interactiva, basta tipear una sentencia para poder ver inmediatamente el resultado. Adem\u00e1s los programas en [Python](http://python.org) son m\u00e1s simples, m\u00e1s peque\u00f1os y m\u00e1s flexibles que los programas equivalentes en lenguajes como [C](http://es.wikipedia.org/wiki/C_(lenguaje_de_programaci%C3%B3n), [C++](http://es.wikipedia.org/wiki/C%2B%2B) o [Java](http://es.wikipedia.org/wiki/Java_(lenguaje_de_programaci%C3%B3n).\n",
      "\n",
      "* **F\u00e1cil de aprender**. Desde mi punto de vista, esta es sin duda la principal fortaleza del lenguaje; comparado con otros lenguajes de programaci\u00f3n, [Python](http://python.org) es sumamente f\u00e1cil de aprender, en tan s\u00f3lo un par de d\u00edas se puede estar programando eficientemente con [Python](http://python.org).\n",
      "\n"
     ]
    },
    {
     "cell_type": "markdown",
     "metadata": {},
     "source": [
      "##Instalando Python##"
     ]
    },
    {
     "cell_type": "markdown",
     "metadata": {},
     "source": [
      "###En Linux###\n",
      "\n",
      "Instalar [Python](http://python.org) en [Linux](http://www.linuxfoundation.org/) no es necesario, ya que viene preinstalado en todas las distribuciones m\u00e1s populares.\n",
      "\n",
      "###En Windows###\n",
      "\n",
      "La forma m\u00e1s sencilla de poder instalar [Python](http://python.org) en Windows es instalando alguna de las distribuciones de [Python](http://python.org) que ya vienen armadas con los principales m\u00f3dulos. Yo les recomiendo la distribuci\u00f3n [Anaconda](http://continuum.io/downloads), que se puede descargar en forma gratuita y viene integrada con todos los principales paquetes que vamos a necesitar para trabajar con [Python](http://python.org). Una vez que la descargan, simplemente siguen los pasos del instalador y listo, ya tendran todo un ambiente [Python](http://python.org) para trabajar en Windows.\n",
      "\n",
      "Otra distribuci\u00f3n de [Python](http://python.org) que pueden utilizar en Windows, es [WinPython](http://winpython.sourceforge.net/), la cual puede ser utilizada incluso en forma portable.\n",
      "\n",
      "\n",
      "Hasta aqu\u00ed este primer art\u00edculo de mi nuevo blog; los invito a que se instalen y exploren [Python](http://python.org), no solo es f\u00e1cil de aprender, tambi\u00e9n es muy divertido programar en [Python](http://python.org)!\n",
      "\n"
     ]
    }
   ],
   "metadata": {}
  }
 ]
}