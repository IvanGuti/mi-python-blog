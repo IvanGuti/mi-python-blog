{
 "metadata": {
  "name": "",
  "signature": "sha256:14d1bf44b3d18a92a748de933fa2568e5bc65107be3c116a2d43cd2097c91315"
 },
 "nbformat": 3,
 "nbformat_minor": 0,
 "worksheets": [
  {
   "cells": [
    {
     "cell_type": "markdown",
     "metadata": {},
     "source": [
      "#Estad\u00edsticas con Python"
     ]
    },
    {
     "cell_type": "markdown",
     "metadata": {},
     "source": [
      "*Esta notebook fue creada originalmente como un blog post por [Ra\u00fal E. L\u00f3pez Briega](http://relopezbriega.com.ar/) en [Mi blog sobre Python](http://relopezbriega.github.io). El contenido esta bajo la licencia BSD.*"
     ]
    },
    {
     "cell_type": "markdown",
     "metadata": {},
     "source": [
      "Actualmente con el boom de la [Big Data](http://es.wikipedia.org/wiki/Big_data), el conocimiento de los conceptos estad\u00edsticos se ha hecho fundamental. En los \u00faltimos a\u00f1os ha habido un resurgimiento de todo lo relacionado con *estad\u00edsticas*, *[data mining](http://es.wikipedia.org/wiki/Miner%C3%ADa_de_datos)* y *[machine learning](http://es.wikipedia.org/wiki/Aprendizaje_autom%C3%A1tico)* empujados principalmente por la explosi\u00f3n de datos con la que contamos, estos conceptos combinados forman la base de lo que actualmente se conoce como la *[Ciencia de Datos](http://en.wikipedia.org/wiki/Data_science)*. Dentro de este contexto, [Python](http://python.org/) es uno de los lenguajes que m\u00e1s f\u00e1cil nos hace trabajar con datos. Realizar complejos analisis estad\u00edsticos nunca fue tan f\u00e1cil como con [Python](http://python.org/)!\n"
     ]
    },
    {
     "cell_type": "markdown",
     "metadata": {},
     "source": [
      "##Estad\u00edstica\n",
      "\n",
      "La *[estad\u00edstica](http://es.wikipedia.org/wiki/Estad%C3%ADstica)* suele ser definida como la ciencia de aprender de los datos o como la ciencia de obtener conclusiones en la presencia de incertidumbre. Se relaciona principalmente con la recolecci\u00f3n, analisis e interpretaci\u00f3n de datos, as\u00ed como tambi\u00e9n con la efectiva comunicaci\u00f3n y presenteaci\u00f3n de los resultados basados en esos datos. La *[estad\u00edstica](http://es.wikipedia.org/wiki/Estad%C3%ADstica)* puede ser muy importante para una efectiva toma de decisiones."
     ]
    },
    {
     "cell_type": "code",
     "collapsed": false,
     "input": [
      "#inline plots.\n",
      "%matplotlib inline "
     ],
     "language": "python",
     "metadata": {},
     "outputs": [],
     "prompt_number": 1
    },
    {
     "cell_type": "code",
     "collapsed": false,
     "input": [
      "import numpy as np"
     ],
     "language": "python",
     "metadata": {},
     "outputs": [],
     "prompt_number": 2
    },
    {
     "cell_type": "code",
     "collapsed": false,
     "input": [
      "mu, sigma = 0, 0.1 # mean and standard deviation\n",
      "s = np.random.normal(mu, sigma, 1000)"
     ],
     "language": "python",
     "metadata": {},
     "outputs": [],
     "prompt_number": 3
    },
    {
     "cell_type": "code",
     "collapsed": false,
     "input": [
      "#Verify the mean and the variance:\n",
      "abs(mu - np.mean(s)) < 0.01"
     ],
     "language": "python",
     "metadata": {},
     "outputs": [
      {
       "metadata": {},
       "output_type": "pyout",
       "prompt_number": 4,
       "text": [
        "True"
       ]
      }
     ],
     "prompt_number": 4
    },
    {
     "cell_type": "code",
     "collapsed": false,
     "input": [
      "abs(sigma - np.std(s, ddof=1)) < 0.01"
     ],
     "language": "python",
     "metadata": {},
     "outputs": [
      {
       "metadata": {},
       "output_type": "pyout",
       "prompt_number": 5,
       "text": [
        "True"
       ]
      }
     ],
     "prompt_number": 5
    },
    {
     "cell_type": "code",
     "collapsed": false,
     "input": [
      "import matplotlib.pyplot as plt\n",
      "count, bins, ignored = plt.hist(s, 30, normed=True)\n",
      "plt.plot(bins, 1/(sigma * np.sqrt(2 * np.pi)) *\n",
      "         np.exp( - (bins - mu)**2 / (2 * sigma**2) ),\n",
      "         linewidth=2, color='r')"
     ],
     "language": "python",
     "metadata": {},
     "outputs": [
      {
       "metadata": {},
       "output_type": "pyout",
       "prompt_number": 7,
       "text": [
        "[<matplotlib.lines.Line2D at 0x7fb8420f2860>]"
       ]
      },
      {
       "metadata": {},
       "output_type": "display_data",
       "png": "[encoded data removed]",
       "text": [
        "<matplotlib.figure.Figure at 0x7fb8420f28d0>"
       ]
      }
     ],
     "prompt_number": 7
    },
    {
     "cell_type": "code",
     "collapsed": false,
     "input": [],
     "language": "python",
     "metadata": {},
     "outputs": []
    }
   ],
   "metadata": {}
  }
 ]
}